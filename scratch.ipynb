{
 "cells": [
  {
   "cell_type": "code",
   "execution_count": 6,
   "id": "eb9a90f6",
   "metadata": {},
   "outputs": [],
   "source": [
    "from transformers import AutoProcessor, AutoModelForImageTextToText\n",
    "from peft import LoraConfig, get_peft_model, TaskType\n",
    "\n",
    "processor = AutoProcessor.from_pretrained(\"Qwen/Qwen2-VL-2B-Instruct\", use_fast=True)"
   ]
  },
  {
   "cell_type": "code",
   "execution_count": 7,
   "id": "46e6e349",
   "metadata": {},
   "outputs": [
    {
     "data": {
      "text/plain": [
       "'<|endoftext|>'"
      ]
     },
     "execution_count": 7,
     "metadata": {},
     "output_type": "execute_result"
    }
   ],
   "source": [
    "processor.tokenizer.pad_token"
   ]
  },
  {
   "cell_type": "code",
   "execution_count": 8,
   "id": "f3d09a47",
   "metadata": {},
   "outputs": [
    {
     "name": "stdout",
     "output_type": "stream",
     "text": [
      "[151644, 77091]\n"
     ]
    }
   ],
   "source": [
    "print(processor.tokenizer.encode(\"<|im_start|>assistant\"))"
   ]
  },
  {
   "cell_type": "code",
   "execution_count": null,
   "id": "83b4960c",
   "metadata": {},
   "outputs": [
    {
     "data": {
      "application/vnd.jupyter.widget-view+json": {
       "model_id": "f6b61830aa1b4bd098fac3fe0a918229",
       "version_major": 2,
       "version_minor": 0
      },
      "text/plain": [
       "Loading checkpoint shards:   0%|          | 0/2 [00:00<?, ?it/s]"
      ]
     },
     "metadata": {},
     "output_type": "display_data"
    },
    {
     "data": {
      "text/plain": [
       "Qwen2VLForConditionalGeneration(\n",
       "  (model): Qwen2VLModel(\n",
       "    (visual): Qwen2VisionTransformerPretrainedModel(\n",
       "      (patch_embed): PatchEmbed(\n",
       "        (proj): Conv3d(3, 1280, kernel_size=(2, 14, 14), stride=(2, 14, 14), bias=False)\n",
       "      )\n",
       "      (rotary_pos_emb): VisionRotaryEmbedding()\n",
       "      (blocks): ModuleList(\n",
       "        (0-31): 32 x Qwen2VLVisionBlock(\n",
       "          (norm1): LayerNorm((1280,), eps=1e-06, elementwise_affine=True)\n",
       "          (norm2): LayerNorm((1280,), eps=1e-06, elementwise_affine=True)\n",
       "          (attn): VisionAttention(\n",
       "            (qkv): Linear(in_features=1280, out_features=3840, bias=True)\n",
       "            (proj): Linear(in_features=1280, out_features=1280, bias=True)\n",
       "          )\n",
       "          (mlp): VisionMlp(\n",
       "            (fc1): Linear(in_features=1280, out_features=5120, bias=True)\n",
       "            (act): QuickGELUActivation()\n",
       "            (fc2): Linear(in_features=5120, out_features=1280, bias=True)\n",
       "          )\n",
       "        )\n",
       "      )\n",
       "      (merger): PatchMerger(\n",
       "        (ln_q): LayerNorm((1280,), eps=1e-06, elementwise_affine=True)\n",
       "        (mlp): Sequential(\n",
       "          (0): Linear(in_features=5120, out_features=5120, bias=True)\n",
       "          (1): GELU(approximate='none')\n",
       "          (2): Linear(in_features=5120, out_features=1536, bias=True)\n",
       "        )\n",
       "      )\n",
       "    )\n",
       "    (language_model): Qwen2VLTextModel(\n",
       "      (embed_tokens): Embedding(151936, 1536)\n",
       "      (layers): ModuleList(\n",
       "        (0-27): 28 x Qwen2VLDecoderLayer(\n",
       "          (self_attn): Qwen2VLAttention(\n",
       "            (q_proj): Linear(in_features=1536, out_features=1536, bias=True)\n",
       "            (k_proj): Linear(in_features=1536, out_features=256, bias=True)\n",
       "            (v_proj): Linear(in_features=1536, out_features=256, bias=True)\n",
       "            (o_proj): Linear(in_features=1536, out_features=1536, bias=False)\n",
       "            (rotary_emb): Qwen2VLRotaryEmbedding()\n",
       "          )\n",
       "          (mlp): Qwen2MLP(\n",
       "            (gate_proj): Linear(in_features=1536, out_features=8960, bias=False)\n",
       "            (up_proj): Linear(in_features=1536, out_features=8960, bias=False)\n",
       "            (down_proj): Linear(in_features=8960, out_features=1536, bias=False)\n",
       "            (act_fn): SiLU()\n",
       "          )\n",
       "          (input_layernorm): Qwen2RMSNorm((1536,), eps=1e-06)\n",
       "          (post_attention_layernorm): Qwen2RMSNorm((1536,), eps=1e-06)\n",
       "        )\n",
       "      )\n",
       "      (norm): Qwen2RMSNorm((1536,), eps=1e-06)\n",
       "      (rotary_emb): Qwen2VLRotaryEmbedding()\n",
       "    )\n",
       "  )\n",
       "  (lm_head): Linear(in_features=1536, out_features=151936, bias=False)\n",
       ")"
      ]
     },
     "execution_count": 5,
     "metadata": {},
     "output_type": "execute_result"
    }
   ],
   "source": [
    "\n",
    "model = AutoModelForImageTextToText.from_pretrained(\n",
    "    \"Qwen/Qwen2-VL-2B-Instruct\",\n",
    "    dtype=\"float16\",\n",
    "    device_map=\"auto\",\n",
    ")\n",
    "\n",
    "model"
   ]
  },
  {
   "cell_type": "code",
   "execution_count": 6,
   "id": "d2243976",
   "metadata": {},
   "outputs": [
    {
     "name": "stdout",
     "output_type": "stream",
     "text": [
      "Qwen2VLConfig {\n",
      "  \"architectures\": [\n",
      "    \"Qwen2VLForConditionalGeneration\"\n",
      "  ],\n",
      "  \"attention_dropout\": 0.0,\n",
      "  \"bos_token_id\": 151643,\n",
      "  \"dtype\": \"float16\",\n",
      "  \"eos_token_id\": 151645,\n",
      "  \"hidden_act\": \"silu\",\n",
      "  \"hidden_size\": 1536,\n",
      "  \"image_token_id\": 151655,\n",
      "  \"initializer_range\": 0.02,\n",
      "  \"intermediate_size\": 8960,\n",
      "  \"max_position_embeddings\": 32768,\n",
      "  \"max_window_layers\": 28,\n",
      "  \"model_type\": \"qwen2_vl\",\n",
      "  \"num_attention_heads\": 12,\n",
      "  \"num_hidden_layers\": 28,\n",
      "  \"num_key_value_heads\": 2,\n",
      "  \"rms_norm_eps\": 1e-06,\n",
      "  \"rope_scaling\": {\n",
      "    \"mrope_section\": [\n",
      "      16,\n",
      "      24,\n",
      "      24\n",
      "    ],\n",
      "    \"rope_type\": \"default\",\n",
      "    \"type\": \"default\"\n",
      "  },\n",
      "  \"rope_theta\": 1000000.0,\n",
      "  \"sliding_window\": 32768,\n",
      "  \"text_config\": {\n",
      "    \"architectures\": [\n",
      "      \"Qwen2VLForConditionalGeneration\"\n",
      "    ],\n",
      "    \"attention_dropout\": 0.0,\n",
      "    \"bos_token_id\": 151643,\n",
      "    \"dtype\": \"float16\",\n",
      "    \"eos_token_id\": 151645,\n",
      "    \"hidden_act\": \"silu\",\n",
      "    \"hidden_size\": 1536,\n",
      "    \"image_token_id\": null,\n",
      "    \"initializer_range\": 0.02,\n",
      "    \"intermediate_size\": 8960,\n",
      "    \"layer_types\": [\n",
      "      \"full_attention\",\n",
      "      \"full_attention\",\n",
      "      \"full_attention\",\n",
      "      \"full_attention\",\n",
      "      \"full_attention\",\n",
      "      \"full_attention\",\n",
      "      \"full_attention\",\n",
      "      \"full_attention\",\n",
      "      \"full_attention\",\n",
      "      \"full_attention\",\n",
      "      \"full_attention\",\n",
      "      \"full_attention\",\n",
      "      \"full_attention\",\n",
      "      \"full_attention\",\n",
      "      \"full_attention\",\n",
      "      \"full_attention\",\n",
      "      \"full_attention\",\n",
      "      \"full_attention\",\n",
      "      \"full_attention\",\n",
      "      \"full_attention\",\n",
      "      \"full_attention\",\n",
      "      \"full_attention\",\n",
      "      \"full_attention\",\n",
      "      \"full_attention\",\n",
      "      \"full_attention\",\n",
      "      \"full_attention\",\n",
      "      \"full_attention\",\n",
      "      \"full_attention\"\n",
      "    ],\n",
      "    \"max_position_embeddings\": 32768,\n",
      "    \"max_window_layers\": 28,\n",
      "    \"model_type\": \"qwen2_vl_text\",\n",
      "    \"num_attention_heads\": 12,\n",
      "    \"num_hidden_layers\": 28,\n",
      "    \"num_key_value_heads\": 2,\n",
      "    \"rms_norm_eps\": 1e-06,\n",
      "    \"rope_scaling\": {\n",
      "      \"mrope_section\": [\n",
      "        16,\n",
      "        24,\n",
      "        24\n",
      "      ],\n",
      "      \"rope_type\": \"default\",\n",
      "      \"type\": \"default\"\n",
      "    },\n",
      "    \"rope_theta\": 1000000.0,\n",
      "    \"sliding_window\": null,\n",
      "    \"tie_word_embeddings\": true,\n",
      "    \"use_cache\": true,\n",
      "    \"use_sliding_window\": false,\n",
      "    \"video_token_id\": null,\n",
      "    \"vision_end_token_id\": 151653,\n",
      "    \"vision_start_token_id\": 151652,\n",
      "    \"vision_token_id\": 151654,\n",
      "    \"vocab_size\": 151936\n",
      "  },\n",
      "  \"transformers_version\": \"4.56.2\",\n",
      "  \"use_cache\": true,\n",
      "  \"use_sliding_window\": false,\n",
      "  \"video_token_id\": 151656,\n",
      "  \"vision_config\": {\n",
      "    \"depth\": 32,\n",
      "    \"dtype\": \"float16\",\n",
      "    \"embed_dim\": 1280,\n",
      "    \"hidden_act\": \"quick_gelu\",\n",
      "    \"hidden_size\": 1536,\n",
      "    \"in_channels\": 3,\n",
      "    \"in_chans\": 3,\n",
      "    \"initializer_range\": 0.02,\n",
      "    \"mlp_ratio\": 4,\n",
      "    \"model_type\": \"qwen2_vl\",\n",
      "    \"num_heads\": 16,\n",
      "    \"patch_size\": 14,\n",
      "    \"spatial_merge_size\": 2,\n",
      "    \"spatial_patch_size\": 14,\n",
      "    \"temporal_patch_size\": 2\n",
      "  },\n",
      "  \"vision_end_token_id\": 151653,\n",
      "  \"vision_start_token_id\": 151652,\n",
      "  \"vision_token_id\": 151654,\n",
      "  \"vocab_size\": 151936\n",
      "}\n",
      "\n"
     ]
    }
   ],
   "source": [
    "print(model.config)"
   ]
  },
  {
   "cell_type": "code",
   "execution_count": 2,
   "id": "4e5cc620",
   "metadata": {},
   "outputs": [
    {
     "name": "stdout",
     "output_type": "stream",
     "text": [
      "trainable params: 14,630,080 || all params: 2,223,615,680 || trainable%: 0.6579\n"
     ]
    }
   ],
   "source": [
    "target_modules = [\n",
    "    # text attention\n",
    "    \"q_proj\", \"k_proj\", \"v_proj\", \"o_proj\",\n",
    "    # text MLP\n",
    "    \"gate_proj\", \"up_proj\", \"down_proj\",\n",
    "    # vision attention\n",
    "    \"qkv\", \"proj\",\n",
    "    # vision MLP\n",
    "    \"fc1\", \"fc2\",\n",
    "    # merger: target only the Linear leaves (avoid the container)\n",
    "    \"visual.merger.mlp.0\",\n",
    "    \"visual.merger.mlp.2\",\n",
    "]\n",
    "\n",
    "\n",
    "peft_config = LoraConfig(\n",
    "    target_modules=target_modules,\n",
    "    task_type=TaskType.CAUSAL_LM,\n",
    "    r=8,\n",
    "    lora_alpha=16,\n",
    "    lora_dropout=0.1,\n",
    ")\n",
    "\n",
    "model = get_peft_model(model, peft_config)\n",
    "\n",
    "model.print_trainable_parameters()"
   ]
  },
  {
   "cell_type": "code",
   "execution_count": 1,
   "id": "2e7e5164",
   "metadata": {},
   "outputs": [
    {
     "data": {
      "text/plain": [
       "Dataset({\n",
       "    features: ['image', 'latex_formula', 'category'],\n",
       "    num_rows: 10\n",
       "})"
      ]
     },
     "execution_count": 1,
     "metadata": {},
     "output_type": "execute_result"
    }
   ],
   "source": [
    "from datasets import load_dataset, load_from_disk\n",
    "\n",
    "raw_dataset = load_from_disk(\"datasets/latex80m_en_10k/\")\n",
    "raw_dataset"
   ]
  },
  {
   "cell_type": "code",
   "execution_count": 2,
   "id": "b0e00b0c",
   "metadata": {},
   "outputs": [
    {
     "data": {
      "text/plain": [
       "{'image': <PIL.PngImagePlugin.PngImageFile image mode=RGB size=191x22>,\n",
       " 'latex_formula': '\\\\[x_{\\\\boldsymbol{\\\\alpha}}\\\\coloneqq x_{\\\\alpha_{1}}\\\\cdots x_{\\\\alpha_{\\\\ell}}\\\\]',\n",
       " 'category': 'inline'}"
      ]
     },
     "execution_count": 2,
     "metadata": {},
     "output_type": "execute_result"
    }
   ],
   "source": [
    "raw_dataset[3]"
   ]
  },
  {
   "cell_type": "code",
   "execution_count": 3,
   "id": "74827620",
   "metadata": {},
   "outputs": [
    {
     "data": {
      "image/jpeg": "[encoded data removed]",
      "image/png": "[encoded data removed]",
      "text/plain": [
       "<PIL.PngImagePlugin.PngImageFile image mode=RGB size=241x72>"
      ]
     },
     "execution_count": 3,
     "metadata": {},
     "output_type": "execute_result"
    }
   ],
   "source": [
    "image, answer = raw_dataset[0][\"image\"], raw_dataset[0][\"latex_formula\"]\n",
    "\n",
    "image"
   ]
  },
  {
   "cell_type": "code",
   "execution_count": 4,
   "id": "3722d615",
   "metadata": {},
   "outputs": [
    {
     "name": "stdout",
     "output_type": "stream",
     "text": [
      "\\[\\pi_{q}(n)=\\frac{1}{n}\\sum_{d|n}\\mu(d)q^{\\frac{n}{d}},\\]\n"
     ]
    }
   ],
   "source": [
    "print(answer)"
   ]
  },
  {
   "cell_type": "code",
   "execution_count": 37,
   "id": "1198bcba",
   "metadata": {},
   "outputs": [
    {
     "name": "stdout",
     "output_type": "stream",
     "text": [
      "56\n"
     ]
    },
    {
     "data": {
      "text/plain": [
       "{'input_ids': [[151644, 8948, 198, 2610, 525, 264, 10950, 17847, 13, 151645, 198, 151644, 872, 198, 151652, 151655, 151655, 151655, 151655, 151655, 151655, 151655, 151655, 151655, 151655, 151655, 151655, 151655, 151655, 151655, 151655, 151655, 151655, 151655, 151655, 151655, 151655, 151655, 151655, 151655, 151655, 151655, 151653, 3167, 3114, 279, 2661, 2168, 311, 97913, 13, 151645, 198, 151644, 77091, 198]], 'attention_mask': [[1, 1, 1, 1, 1, 1, 1, 1, 1, 1, 1, 1, 1, 1, 1, 1, 1, 1, 1, 1, 1, 1, 1, 1, 1, 1, 1, 1, 1, 1, 1, 1, 1, 1, 1, 1, 1, 1, 1, 1, 1, 1, 1, 1, 1, 1, 1, 1, 1, 1, 1, 1, 1, 1, 1, 1]], 'pixel_values': tensor([[ 1.9303,  1.9303,  1.9303,  ...,  2.1459,  2.1459,  2.1459],\n",
       "        [ 1.9303,  1.9303,  1.9303,  ...,  2.1459,  2.1459,  2.1459],\n",
       "        [ 1.9303,  1.9303,  1.9303,  ..., -1.0252, -1.0394, -1.0821],\n",
       "        ...,\n",
       "        [ 1.9303,  1.9303,  1.9303,  ...,  2.1459,  2.1459,  2.1459],\n",
       "        [ 1.9303,  1.9303,  1.9303,  ...,  2.1459,  2.1459,  2.1459],\n",
       "        [ 1.9303,  1.9303,  1.9303,  ...,  2.1459,  2.1459,  2.1459]]), 'image_grid_thw': tensor([[ 1,  6, 18]])}"
      ]
     },
     "execution_count": 37,
     "metadata": {},
     "output_type": "execute_result"
    }
   ],
   "source": [
    "msg = {\n",
    "    \"role\": \"user\",\n",
    "    \"content\": [\n",
    "        {\n",
    "            \"type\": \"image\",\n",
    "            \"image\": image,\n",
    "        },\n",
    "        {\n",
    "            \"type\": \"text\",\n",
    "            \"text\": \"Transcribe the given image to LaTeX.\",\n",
    "        },\n",
    "    ],\n",
    "}\n",
    "\n",
    "inputs = processor.apply_chat_template(\n",
    "    [msg],\n",
    "    tokenize=True,\n",
    "    return_dict=True,\n",
    "    add_generation_prompt=True,\n",
    ")\n",
    "\n",
    "print(len(inputs[\"input_ids\"][0]))\n",
    "inputs\n"
   ]
  },
  {
   "cell_type": "code",
   "execution_count": 28,
   "id": "fec0a6f8",
   "metadata": {},
   "outputs": [
    {
     "data": {
      "text/plain": [
       "'<|im_start|>system\\nYou are a helpful assistant.<|im_end|>\\n<|im_start|>user\\nTranscribe the given image to LaTeX.<|im_end|>\\n<|im_start|>assistant\\n'"
      ]
     },
     "execution_count": 28,
     "metadata": {},
     "output_type": "execute_result"
    }
   ],
   "source": [
    "processor.decode(inputs[\"input_ids\"][0])"
   ]
  },
  {
   "cell_type": "code",
   "execution_count": 25,
   "id": "918a3044",
   "metadata": {},
   "outputs": [
    {
     "data": {
      "text/plain": [
       "{'input_ids': [[151644, 8948, 198, 2610, 525, 264, 10950, 17847, 13, 151645, 198, 151644, 872, 198, 3167, 3114, 279, 2661, 2168, 311, 97913, 13, 151645, 198, 151644, 77091, 198]], 'attention_mask': [[1, 1, 1, 1, 1, 1, 1, 1, 1, 1, 1, 1, 1, 1, 1, 1, 1, 1, 1, 1, 1, 1, 1, 1, 1, 1, 1]]}"
      ]
     },
     "execution_count": 25,
     "metadata": {},
     "output_type": "execute_result"
    }
   ],
   "source": [
    "msg = {\n",
    "    \"role\": \"user\",\n",
    "    \"content\": [\n",
    "        {\n",
    "            \"type\": \"text\",\n",
    "            \"text\": \"Transcribe the given image to LaTeX.\",\n",
    "        },\n",
    "    ],\n",
    "}\n",
    "\n",
    "inputs = processor.apply_chat_template(\n",
    "    [msg],\n",
    "    tokenize=True,\n",
    "    return_dict=True,\n",
    "    add_generation_prompt=True,\n",
    ")\n",
    "\n",
    "inputs"
   ]
  },
  {
   "cell_type": "code",
   "execution_count": 27,
   "id": "8a3ab92f",
   "metadata": {},
   "outputs": [
    {
     "data": {
      "text/plain": [
       "'<|im_start|>system\\nYou are a helpful assistant.<|im_end|>\\n<|im_start|>user\\nTranscribe the given image to LaTeX.<|im_end|>\\n<|im_start|>assistant\\n'"
      ]
     },
     "execution_count": 27,
     "metadata": {},
     "output_type": "execute_result"
    }
   ],
   "source": [
    "processor.decode(inputs[\"input_ids\"][0])"
   ]
  },
  {
   "cell_type": "code",
   "execution_count": 32,
   "id": "7ddf8b71",
   "metadata": {},
   "outputs": [
    {
     "data": {
      "text/plain": [
       "{'input_ids': [3167, 3114, 279, 2661, 2168, 311, 97913, 13], 'attention_mask': [1, 1, 1, 1, 1, 1, 1, 1]}"
      ]
     },
     "execution_count": 32,
     "metadata": {},
     "output_type": "execute_result"
    }
   ],
   "source": [
    "processor.tokenizer(\"Transcribe the given image to LaTeX.\")"
   ]
  },
  {
   "cell_type": "code",
   "execution_count": 38,
   "id": "e254b931",
   "metadata": {},
   "outputs": [
    {
     "name": "stdout",
     "output_type": "stream",
     "text": [
      "16253\n"
     ]
    }
   ],
   "source": [
    "from PIL import Image\n",
    "\n",
    "image = Image.open(\"datasets/2.jpg\")\n",
    "\n",
    "msg = {\n",
    "    \"role\": \"user\",\n",
    "    \"content\": [\n",
    "        {\n",
    "            \"type\": \"image\",\n",
    "            \"image\": image,\n",
    "        },\n",
    "        {\n",
    "            \"type\": \"text\",\n",
    "            \"text\": \"Transcribe the given image to LaTeX.\",\n",
    "        },\n",
    "    ],\n",
    "}\n",
    "\n",
    "inputs = processor.apply_chat_template(\n",
    "    [msg],\n",
    "    tokenize=True,\n",
    "    return_dict=True,\n",
    "    add_generation_prompt=True,\n",
    ")\n",
    "\n",
    "print(len(inputs[\"input_ids\"][0]))\n"
   ]
  },
  {
   "cell_type": "code",
   "execution_count": 24,
   "id": "6be3ce57",
   "metadata": {},
   "outputs": [
    {
     "name": "stdout",
     "output_type": "stream",
     "text": [
      "92\n"
     ]
    },
    {
     "data": {
      "text/plain": [
       "{'input_ids': [[151644, 8948, 198, 2610, 525, 264, 10950, 17847, 13, 151645, 198, 151644, 872, 198, 151652, 151655, 151655, 151655, 151655, 151655, 151655, 151655, 151655, 151655, 151655, 151655, 151655, 151655, 151655, 151655, 151655, 151655, 151655, 151655, 151655, 151655, 151655, 151655, 151655, 151655, 151655, 151655, 151653, 3167, 3114, 279, 2661, 2168, 311, 97913, 13, 151645, 198, 151644, 77091, 198, 59, 26056, 2493, 15159, 80, 25547, 77, 11730, 59, 37018, 90, 16, 15170, 77, 11035, 1242, 15159, 67, 91, 77, 11035, 15128, 1500, 8, 80, 61, 35702, 37018, 91362, 15170, 67, 38154, 59, 60, 151645, 198]], 'attention_mask': [[1, 1, 1, 1, 1, 1, 1, 1, 1, 1, 1, 1, 1, 1, 1, 1, 1, 1, 1, 1, 1, 1, 1, 1, 1, 1, 1, 1, 1, 1, 1, 1, 1, 1, 1, 1, 1, 1, 1, 1, 1, 1, 1, 1, 1, 1, 1, 1, 1, 1, 1, 1, 1, 1, 1, 1, 1, 1, 1, 1, 1, 1, 1, 1, 1, 1, 1, 1, 1, 1, 1, 1, 1, 1, 1, 1, 1, 1, 1, 1, 1, 1, 1, 1, 1, 1, 1, 1, 1, 1, 1, 1]], 'pixel_values': tensor([[ 1.9303,  1.9303,  1.9303,  ...,  2.1459,  2.1459,  2.1459],\n",
       "        [ 1.9303,  1.9303,  1.9303,  ...,  2.1459,  2.1459,  2.1459],\n",
       "        [ 1.9303,  1.9303,  1.9303,  ..., -1.0252, -1.0394, -1.0821],\n",
       "        ...,\n",
       "        [ 1.9303,  1.9303,  1.9303,  ...,  2.1459,  2.1459,  2.1459],\n",
       "        [ 1.9303,  1.9303,  1.9303,  ...,  2.1459,  2.1459,  2.1459],\n",
       "        [ 1.9303,  1.9303,  1.9303,  ...,  2.1459,  2.1459,  2.1459]]), 'image_grid_thw': tensor([[ 1,  6, 18]])}"
      ]
     },
     "execution_count": 24,
     "metadata": {},
     "output_type": "execute_result"
    }
   ],
   "source": [
    "image, answer = raw_dataset[0][\"image\"], raw_dataset[0][\"latex_formula\"]\n",
    "\n",
    "msg = [\n",
    "    {\n",
    "        \"role\": \"user\",\n",
    "        \"content\": [\n",
    "            {\n",
    "                \"type\": \"image\",\n",
    "                \"image\": image,\n",
    "            },\n",
    "            {\n",
    "                \"type\": \"text\",\n",
    "                \"text\": \"Transcribe the given image to LaTeX.\",\n",
    "            },\n",
    "        ],\n",
    "    },\n",
    "    {\n",
    "        \"role\": \"assistant\",\n",
    "        \"content\": [{\"type\": \"text\", \"text\": answer}],\n",
    "    },\n",
    "]\n",
    "\n",
    "inputs = processor.apply_chat_template(\n",
    "    [msg],\n",
    "    tokenize=True,\n",
    "    return_dict=True,\n",
    "    add_generation_prompt=False,\n",
    ")\n",
    "\n",
    "print(len(inputs[\"input_ids\"][0]))\n",
    "inputs"
   ]
  },
  {
   "cell_type": "code",
   "execution_count": 25,
   "id": "128cd91a",
   "metadata": {},
   "outputs": [
    {
     "name": "stdout",
     "output_type": "stream",
     "text": [
      "<|im_start|>system\n",
      "You are a helpful assistant.<|im_end|>\n",
      "<|im_start|>user\n",
      "<|vision_start|><|image_pad|><|vision_end|>Transcribe the given image to LaTeX.<|im_end|>\n",
      "<|im_start|>assistant\n",
      "\\[\\pi_{q}(n)=\\frac{1}{n}\\sum_{d|n}\\mu(d)q^{\\frac{n}{d}},\\]<|im_end|>\n",
      "\n"
     ]
    }
   ],
   "source": [
    "print(processor.apply_chat_template(\n",
    "    [msg],\n",
    ")[0])"
   ]
  },
  {
   "cell_type": "code",
   "execution_count": 26,
   "id": "a4b1f58f",
   "metadata": {},
   "outputs": [
    {
     "name": "stdout",
     "output_type": "stream",
     "text": [
      "input_ids, attention_mask, pixel_values, image_grid_thw, "
     ]
    }
   ],
   "source": [
    "for key in inputs:\n",
    "    print(key, end=\", \")"
   ]
  },
  {
   "cell_type": "code",
   "execution_count": 27,
   "id": "c1e78526",
   "metadata": {},
   "outputs": [
    {
     "data": {
      "text/plain": [
       "{'eos_token': '<|im_end|>',\n",
       " 'pad_token': '<|endoftext|>',\n",
       " 'additional_special_tokens': ['<|im_start|>',\n",
       "  '<|im_end|>',\n",
       "  '<|object_ref_start|>',\n",
       "  '<|object_ref_end|>',\n",
       "  '<|box_start|>',\n",
       "  '<|box_end|>',\n",
       "  '<|quad_start|>',\n",
       "  '<|quad_end|>',\n",
       "  '<|vision_start|>',\n",
       "  '<|vision_end|>',\n",
       "  '<|vision_pad|>',\n",
       "  '<|image_pad|>',\n",
       "  '<|video_pad|>']}"
      ]
     },
     "execution_count": 27,
     "metadata": {},
     "output_type": "execute_result"
    }
   ],
   "source": [
    "processor.tokenizer.special_tokens_map"
   ]
  },
  {
   "cell_type": "code",
   "execution_count": 28,
   "id": "72f9a1ac",
   "metadata": {},
   "outputs": [
    {
     "name": "stdout",
     "output_type": "stream",
     "text": [
      "[151644, 77091]\n"
     ]
    }
   ],
   "source": [
    "print(processor.tokenizer.encode(\"<|im_start|>assistant\"))"
   ]
  },
  {
   "cell_type": "code",
   "execution_count": 29,
   "id": "0eb3407e",
   "metadata": {},
   "outputs": [
    {
     "data": {
      "text/plain": [
       "[151644,\n",
       " 8948,\n",
       " 198,\n",
       " 2610,\n",
       " 525,\n",
       " 264,\n",
       " 10950,\n",
       " 17847,\n",
       " 13,\n",
       " 151645,\n",
       " 198,\n",
       " 151644,\n",
       " 872,\n",
       " 198,\n",
       " 151652,\n",
       " 151655,\n",
       " 151655,\n",
       " 151655,\n",
       " 151655,\n",
       " 151655,\n",
       " 151655,\n",
       " 151655,\n",
       " 151655,\n",
       " 151655,\n",
       " 151655,\n",
       " 151655,\n",
       " 151655,\n",
       " 151655,\n",
       " 151655,\n",
       " 151655,\n",
       " 151655,\n",
       " 151655,\n",
       " 151655,\n",
       " 151655,\n",
       " 151655,\n",
       " 151655,\n",
       " 151655,\n",
       " 151655,\n",
       " 151655,\n",
       " 151655,\n",
       " 151655,\n",
       " 151655,\n",
       " 151653,\n",
       " 3167,\n",
       " 3114,\n",
       " 279,\n",
       " 2661,\n",
       " 2168,\n",
       " 311,\n",
       " 97913,\n",
       " 13,\n",
       " 151645,\n",
       " 198,\n",
       " 151644,\n",
       " 77091,\n",
       " 198,\n",
       " 59,\n",
       " 26056,\n",
       " 2493,\n",
       " 15159,\n",
       " 80,\n",
       " 25547,\n",
       " 77,\n",
       " 11730,\n",
       " 59,\n",
       " 37018,\n",
       " 90,\n",
       " 16,\n",
       " 15170,\n",
       " 77,\n",
       " 11035,\n",
       " 1242,\n",
       " 15159,\n",
       " 67,\n",
       " 91,\n",
       " 77,\n",
       " 11035,\n",
       " 15128,\n",
       " 1500,\n",
       " 8,\n",
       " 80,\n",
       " 61,\n",
       " 35702,\n",
       " 37018,\n",
       " 91362,\n",
       " 15170,\n",
       " 67,\n",
       " 38154,\n",
       " 59,\n",
       " 60,\n",
       " 151645,\n",
       " 198]"
      ]
     },
     "execution_count": 29,
     "metadata": {},
     "output_type": "execute_result"
    }
   ],
   "source": [
    "input_ids = inputs[\"input_ids\"][0]\n",
    "\n",
    "input_ids"
   ]
  },
  {
   "cell_type": "code",
   "execution_count": 35,
   "id": "b7df4a7a",
   "metadata": {},
   "outputs": [
    {
     "data": {
      "text/plain": [
       "'system\\nYou are a helpful assistant.<|im_end|>\\n<|im_start|>user\\n<|vision_start|><|image_pad|><|image_pad|><|image_pad|><|image_pad|><|image_pad|><|image_pad|><|image_pad|><|image_pad|><|image_pad|><|image_pad|><|image_pad|><|image_pad|><|image_pad|><|image_pad|><|image_pad|><|image_pad|><|image_pad|><|image_pad|><|image_pad|><|image_pad|><|image_pad|><|image_pad|><|image_pad|><|image_pad|><|image_pad|><|image_pad|><|image_pad|><|vision_end|>Transcribe the given image to LaTeX.<|im_end|>\\n<|im_start|>assistant\\n\\\\[\\\\pi_{q}(n)=\\\\frac{1}{n}\\\\sum_{d|n}\\\\mu(d)q^{\\\\frac{n}{d}},\\\\]<|im_end|>\\n'"
      ]
     },
     "execution_count": 35,
     "metadata": {},
     "output_type": "execute_result"
    }
   ],
   "source": [
    "image, answer = raw_dataset[0][\"image\"], raw_dataset[0][\"latex_formula\"]\n",
    "\n",
    "prompt_msg = [\n",
    "    {\n",
    "        \"role\": \"user\",\n",
    "        \"content\": [\n",
    "            {\n",
    "                \"type\": \"image\",\n",
    "                \"image\": image,\n",
    "            },\n",
    "            {\n",
    "                \"type\": \"text\",\n",
    "                \"text\": \"Transcribe the given image to LaTeX.\",\n",
    "            },\n",
    "        ],\n",
    "    },\n",
    "]\n",
    "\n",
    "full_msg = [\n",
    "    {\n",
    "        \"role\": \"user\",\n",
    "        \"content\": [\n",
    "            {\n",
    "                \"type\": \"image\",\n",
    "                \"image\": image,\n",
    "            },\n",
    "            {\n",
    "                \"type\": \"text\",\n",
    "                \"text\": \"Transcribe the given image to LaTeX.\",\n",
    "            },\n",
    "        ],\n",
    "    },\n",
    "    {\n",
    "        \"role\": \"assistant\",\n",
    "        \"content\": [{\"type\": \"text\", \"text\": answer}],\n",
    "    },\n",
    "]\n",
    "\n",
    "prompt_input_ids = processor.apply_chat_template(\n",
    "    prompt_msg,\n",
    "    tokenize=True,\n",
    "    return_dict=True,\n",
    "    add_generation_prompt=True,\n",
    ")[\"input_ids\"]\n",
    "\n",
    "inputs = processor.apply_chat_template(\n",
    "    [full_msg],\n",
    "    tokenize=True,\n",
    "    return_dict=True,\n",
    "    add_generation_prompt=False,\n",
    "    return_tensors=\"pt\",\n",
    ")\n",
    "\n",
    "labels = inputs[\"input_ids\"][0][:]\n",
    "labels[: len(prompt_input_ids)] = -100\n",
    "\n",
    "unmasked_ids = inputs[\"input_ids\"][0][len(prompt_input_ids) :]\n",
    "processor.tokenizer.decode(unmasked_ids)"
   ]
  },
  {
   "cell_type": "code",
   "execution_count": 37,
   "id": "af485d45",
   "metadata": {},
   "outputs": [
    {
     "name": "stdout",
     "output_type": "stream",
     "text": [
      "[[151644, 8948, 198, 2610, 525, 264, 10950, 17847, 13, 151645, 198, 151644, 872, 198, 151652, 151655, 151655, 151655, 151655, 151655, 151655, 151655, 151655, 151655, 151655, 151655, 151655, 151655, 151655, 151655, 151655, 151655, 151655, 151655, 151655, 151655, 151655, 151655, 151655, 151655, 151655, 151655, 151653, 3167, 3114, 279, 2661, 2168, 311, 97913, 13, 151645, 198, 151644, 77091, 198]]\n"
     ]
    }
   ],
   "source": [
    "prompt_input_ids = processor.apply_chat_template(\n",
    "    [prompt_msg],\n",
    "    tokenize=True,\n",
    "    # return_dict=True,\n",
    "    add_generation_prompt=True,\n",
    ")\n",
    "print(prompt_input_ids)"
   ]
  },
  {
   "cell_type": "code",
   "execution_count": 54,
   "id": "5537b25c",
   "metadata": {},
   "outputs": [
    {
     "data": {
      "application/vnd.jupyter.widget-view+json": {
       "model_id": "7c34f631a3344fd691d93355e1cf592f",
       "version_major": 2,
       "version_minor": 0
      },
      "text/plain": [
       "Map:   0%|          | 0/9 [00:00<?, ? examples/s]"
      ]
     },
     "metadata": {},
     "output_type": "display_data"
    },
    {
     "data": {
      "application/vnd.jupyter.widget-view+json": {
       "model_id": "336b46fe698d4c118cc84ebba774fedd",
       "version_major": 2,
       "version_minor": 0
      },
      "text/plain": [
       "Map:   0%|          | 0/1 [00:00<?, ? examples/s]"
      ]
     },
     "metadata": {},
     "output_type": "display_data"
    }
   ],
   "source": [
    "raw_datasets = load_dataset(\"parquet\", data_files=\"./datasets/latex80m_en_10k.parquet\")\n",
    "\n",
    "raw_datasets[\"train\"] = load_dataset(\"parquet\", data_files=\"./datasets/latex80m_en_10k.parquet\", split=\"train[:90%]\")\n",
    "raw_datasets[\"validation\"] = load_dataset(\"parquet\", data_files=\"./datasets/latex80m_en_10k.parquet\", split=\"train[90%:]\")\n",
    "\n",
    "processor = AutoProcessor.from_pretrained(\"Qwen/Qwen2-VL-2B-Instruct\", use_fast=True)\n",
    "\n",
    "\n",
    "def build_messages(image, latex_formula):\n",
    "    user = {\n",
    "        \"role\": \"user\",\n",
    "        \"content\": [\n",
    "            {\"type\": \"image\", \"image\": image},\n",
    "            {\"type\": \"text\", \"text\": \"Transcribe the given image to LaTeX.\"}\n",
    "        ]\n",
    "    }\n",
    "    assistant = {\n",
    "        \"role\": \"assistant\",\n",
    "        \"content\": [{\"type\": \"text\", \"text\": latex_formula}]\n",
    "    }\n",
    "    return [user], [user, assistant]\n",
    "\n",
    "def pre_process(example):\n",
    "    image = example[\"image\"]\n",
    "    answer = example[\"latex_formula\"]\n",
    "    \n",
    "    user_only_msgs, full_msgs = build_messages(image, answer)\n",
    "    \n",
    "    prompt_input_ids = processor.apply_chat_template(\n",
    "        user_only_msgs,\n",
    "        tokenize=True,\n",
    "        return_dict=False,\n",
    "        add_generation_prompt=True,\n",
    "    )[0]\n",
    "    prompt_len = len(prompt_input_ids)\n",
    "    full_input_ids = processor.apply_chat_template(\n",
    "        full_msgs,\n",
    "        tokenize=True,\n",
    "        return_dict=True,\n",
    "        add_generation_prompt=False,\n",
    "        return_tensors=\"pt\",\n",
    "    )\n",
    "    labels = full_input_ids[\"input_ids\"][0].clone()\n",
    "    labels[:prompt_len] = -100\n",
    "    return {\n",
    "        **full_input_ids,\n",
    "        \"labels\": labels,\n",
    "    }\n",
    "\n",
    "raw_datasets = raw_datasets.map(pre_process)"
   ]
  },
  {
   "cell_type": "code",
   "execution_count": 55,
   "id": "21beb023",
   "metadata": {},
   "outputs": [
    {
     "data": {
      "text/plain": [
       "dict_keys(['image', 'latex_formula', 'category', 'input_ids', 'attention_mask', 'pixel_values', 'image_grid_thw', 'labels'])"
      ]
     },
     "execution_count": 55,
     "metadata": {},
     "output_type": "execute_result"
    }
   ],
   "source": [
    "raw_datasets[\"train\"][0].keys()"
   ]
  },
  {
   "cell_type": "code",
   "execution_count": 66,
   "id": "062a59a5",
   "metadata": {},
   "outputs": [
    {
     "name": "stdout",
     "output_type": "stream",
     "text": [
      "[-100, -100, -100, -100, -100, -100, -100, -100, -100, -100, -100, -100, -100, -100, -100, -100, -100, -100, -100, -100, -100, -100, -100, -100, -100, -100, -100, -100, -100, -100, -100, -100, -100, -100, -100, -100, 78045, 87, 15159, 59, 14824, 18785, 35702, 7141, 3417, 59, 2074, 603, 27579, 856, 15159, 59, 7141, 15159, 16, 3417, 59, 4385, 2412, 856, 15159, 59, 7141, 15159, 59, 613, 3417, 59, 60, 151645, 198]\n",
      "35\n",
      "[78045, 87, 15159, 59, 14824, 18785, 35702, 7141, 3417, 59, 2074, 603, 27579, 856, 15159, 59, 7141, 15159, 16, 3417, 59, 4385, 2412, 856, 15159, 59, 7141, 15159, 59, 613, 3417, 59, 60, 151645, 198]\n",
      "\\[x_{\\boldsymbol{\\alpha}}\\coloneqq x_{\\alpha_{1}}\\cdots x_{\\alpha_{\\ell}}\\]<|im_end|>\n",
      "\n"
     ]
    }
   ],
   "source": [
    "inputs = raw_datasets[\"train\"][3]\n",
    "\n",
    "input_ids = inputs[\"input_ids\"]\n",
    "labels = inputs[\"labels\"]\n",
    "print(labels)\n",
    "\n",
    "last_index = len(labels) - 1 - labels[::-1].index(-100)\n",
    "print(last_index)\n",
    "\n",
    "unmasked_ids = labels[last_index + 1:]\n",
    "print(unmasked_ids)\n",
    "\n",
    "print(processor.decode(unmasked_ids))"
   ]
  },
  {
   "cell_type": "code",
   "execution_count": null,
   "id": "d6fc19aa",
   "metadata": {},
   "outputs": [
    {
     "data": {
      "text/plain": [
       "0"
      ]
     },
     "execution_count": 58,
     "metadata": {},
     "output_type": "execute_result"
    }
   ],
   "source": [
    "labels.index(-100, )"
   ]
  },
  {
   "cell_type": "code",
   "execution_count": 70,
   "id": "750c550e",
   "metadata": {},
   "outputs": [
    {
     "name": "stdout",
     "output_type": "stream",
     "text": [
      "{'input_ids': [[151644, 8948, 198, 2610, 525, 264, 10950, 17847, 13, 151645, 198, 151644, 872, 198, 151652, 151655, 151655, 151655, 151655, 151655, 151655, 151655, 151655, 151655, 151655, 151655, 151655, 151655, 151655, 151655, 151655, 151655, 151655, 151655, 151655, 151655, 151655, 151655, 151655, 151655, 151655, 151655, 151653, 3167, 3114, 279, 2661, 2168, 311, 97913, 13, 151645, 198, 151644, 77091, 198], [151643, 151643, 151643, 151643, 151643, 151643, 151643, 151643, 151643, 151643, 151643, 151643, 151643, 151643, 151643, 151643, 151643, 151643, 151643, 151643, 151644, 8948, 198, 2610, 525, 264, 10950, 17847, 13, 151645, 198, 151644, 872, 198, 3167, 3114, 279, 264, 44953, 35834, 44953, 2577, 41856, 2218, 823, 264, 823, 2168, 311, 97913, 13, 151645, 198, 151644, 77091, 198]], 'attention_mask': [[1, 1, 1, 1, 1, 1, 1, 1, 1, 1, 1, 1, 1, 1, 1, 1, 1, 1, 1, 1, 1, 1, 1, 1, 1, 1, 1, 1, 1, 1, 1, 1, 1, 1, 1, 1, 1, 1, 1, 1, 1, 1, 1, 1, 1, 1, 1, 1, 1, 1, 1, 1, 1, 1, 1, 1], [0, 0, 0, 0, 0, 0, 0, 0, 0, 0, 0, 0, 0, 0, 0, 0, 0, 0, 0, 0, 1, 1, 1, 1, 1, 1, 1, 1, 1, 1, 1, 1, 1, 1, 1, 1, 1, 1, 1, 1, 1, 1, 1, 1, 1, 1, 1, 1, 1, 1, 1, 1, 1, 1, 1, 1]], 'pixel_values': tensor([[ 1.9303,  1.9303,  1.9303,  ...,  2.1459,  2.1459,  2.1459],\n",
      "        [ 1.9303,  1.9303,  1.9303,  ...,  2.1459,  2.1459,  2.1459],\n",
      "        [ 1.9303,  1.9303,  1.9303,  ..., -1.0252, -1.0394, -1.0821],\n",
      "        ...,\n",
      "        [ 1.9303,  1.9303,  1.9303,  ...,  2.1459,  2.1459,  2.1459],\n",
      "        [ 1.9303,  1.9303,  1.9303,  ...,  2.1459,  2.1459,  2.1459],\n",
      "        [ 1.9303,  1.9303,  1.9303,  ...,  2.1459,  2.1459,  2.1459]]), 'image_grid_thw': tensor([[ 1,  6, 18]])}\n"
     ]
    }
   ],
   "source": [
    "msg = {\n",
    "    \"role\": \"user\",\n",
    "    \"content\": [\n",
    "        {\n",
    "            \"type\": \"image\",\n",
    "            \"image\": image,\n",
    "        },\n",
    "        {\n",
    "            \"type\": \"text\",\n",
    "            \"text\": \"Transcribe the given image to LaTeX.\",\n",
    "        },\n",
    "    ],\n",
    "}\n",
    "\n",
    "msg2 = {\n",
    "    \"role\": \"user\",\n",
    "    \"content\": [\n",
    "        {\"type\": \"text\", \"text\": \"Transcribe the aefeafaefeaf ae faef aef image to LaTeX.\"}\n",
    "    ]\n",
    "}\n",
    "\n",
    "inputs = processor.apply_chat_template(\n",
    "    [[msg], [msg2]],\n",
    "    tokenize=True,\n",
    "    return_dict=True,\n",
    "    add_generation_prompt=True,\n",
    "    padding=True,\n",
    ")\n",
    "\n",
    "print(inputs)"
   ]
  },
  {
   "cell_type": "code",
   "execution_count": 5,
   "id": "fac89e98",
   "metadata": {},
   "outputs": [
    {
     "name": "stdout",
     "output_type": "stream",
     "text": [
      "tensor([0, 0, 1])\n",
      "tensor([ 3, -1,  2])\n"
     ]
    }
   ],
   "source": [
    "import torch\n",
    "\n",
    "x = torch.tensor([\n",
    "    [0, 1, 0, 2],\n",
    "    [0, 0, 0, 0],\n",
    "    [3, 0, 4, 0]\n",
    "])\n",
    "\n",
    "# Flip horizontally, find first non-zero from the right\n",
    "rightmost = (x != 0).int().fliplr().argmax(dim=1)\n",
    "print(rightmost)\n",
    "\n",
    "# If a row has *no* non-zero, argmax returns 0 incorrectly — fix that:\n",
    "mask = (x != 0).any(dim=1)\n",
    "rightmost[mask] = x.shape[1] - 1 - rightmost[mask]\n",
    "rightmost[~mask] = -1  # use -1 for \"no non-zero\"\n",
    "\n",
    "print(rightmost)\n",
    "# tensor([3, -1, 2])"
   ]
  },
  {
   "cell_type": "code",
   "execution_count": null,
   "id": "360b5b44",
   "metadata": {},
   "outputs": [],
   "source": []
  }
 ],
 "metadata": {
  "kernelspec": {
   "display_name": ".venv",
   "language": "python",
   "name": "python3"
  },
  "language_info": {
   "codemirror_mode": {
    "name": "ipython",
    "version": 3
   },
   "file_extension": ".py",
   "mimetype": "text/x-python",
   "name": "python",
   "nbconvert_exporter": "python",
   "pygments_lexer": "ipython3",
   "version": "3.11.13"
  }
 },
 "nbformat": 4,
 "nbformat_minor": 5
}
